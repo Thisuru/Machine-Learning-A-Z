{
 "cells": [
  {
   "cell_type": "code",
   "execution_count": 13,
   "metadata": {},
   "outputs": [],
   "source": [
    "#Data Preprocessing Template\n",
    "import numpy as np\n",
    "import matplotlib.pyplot as plt\n",
    "import pandas as pd\n",
    "\n",
    "dataset = pd.read_csv('50_Startups.csv')\n",
    "X = dataset.iloc[:, :-1].values\n",
    "y = dataset.iloc[:, 4].values"
   ]
  },
  {
   "cell_type": "code",
   "execution_count": 14,
   "metadata": {},
   "outputs": [],
   "source": [
    "#Encoding Categorical data using LabelEncoder and OneHotEncoder\n",
    "from sklearn.preprocessing import LabelEncoder, OneHotEncoder\n",
    "from sklearn.compose import ColumnTransformer\n",
    "\n",
    "labelEncoder_X = LabelEncoder()\n",
    "categorical_col = labelEncoder_X.fit_transform(X[:,3])\n",
    "X[:, 3] = categorical_col\n",
    "\n",
    "ct = ColumnTransformer([('one_hot_encoder', OneHotEncoder(), [3])], remainder='passthrough')\n",
    "X = np.array(ct.fit_transform(X), dtype=np.long)"
   ]
  },
  {
   "cell_type": "code",
   "execution_count": 15,
   "metadata": {},
   "outputs": [
    {
     "data": {
      "text/plain": [
       "array([[     0,      0,      1, 165349, 136897, 471784],\n",
       "       [     1,      0,      0, 162597, 151377, 443898],\n",
       "       [     0,      1,      0, 153441, 101145, 407934],\n",
       "       [     0,      0,      1, 144372, 118671, 383199],\n",
       "       [     0,      1,      0, 142107,  91391, 366168],\n",
       "       [     0,      0,      1, 131876,  99814, 362861],\n",
       "       [     1,      0,      0, 134615, 147198, 127716],\n",
       "       [     0,      1,      0, 130298, 145530, 323876],\n",
       "       [     0,      0,      1, 120542, 148718, 311613],\n",
       "       [     1,      0,      0, 123334, 108679, 304981],\n",
       "       [     0,      1,      0, 101913, 110594, 229160],\n",
       "       [     1,      0,      0, 100671,  91790, 249744],\n",
       "       [     0,      1,      0,  93863, 127320, 249839],\n",
       "       [     1,      0,      0,  91992, 135495, 252664],\n",
       "       [     0,      1,      0, 119943, 156547, 256512],\n",
       "       [     0,      0,      1, 114523, 122616, 261776],\n",
       "       [     1,      0,      0,  78013, 121597, 264346],\n",
       "       [     0,      0,      1,  94657, 145077, 282574],\n",
       "       [     0,      1,      0,  91749, 114175, 294919],\n",
       "       [     0,      0,      1,  86419, 153514,      0],\n",
       "       [     1,      0,      0,  76253, 113867, 298664],\n",
       "       [     0,      0,      1,  78389, 153773, 299737],\n",
       "       [     0,      1,      0,  73994, 122782, 303319],\n",
       "       [     0,      1,      0,  67532, 105751, 304768],\n",
       "       [     0,      0,      1,  77044,  99281, 140574],\n",
       "       [     1,      0,      0,  64664, 139553, 137962],\n",
       "       [     0,      1,      0,  75328, 144135, 134050],\n",
       "       [     0,      0,      1,  72107, 127864, 353183],\n",
       "       [     0,      1,      0,  66051, 182645, 118148],\n",
       "       [     0,      0,      1,  65605, 153032, 107138],\n",
       "       [     0,      1,      0,  61994, 115641,  91131],\n",
       "       [     0,      0,      1,  61136, 152701,  88218],\n",
       "       [     1,      0,      0,  63408, 129219,  46085],\n",
       "       [     0,      1,      0,  55493, 103057, 214634],\n",
       "       [     1,      0,      0,  46426, 157693, 210797],\n",
       "       [     0,      0,      1,  46014,  85047, 205517],\n",
       "       [     0,      1,      0,  28663, 127056, 201126],\n",
       "       [     1,      0,      0,  44069,  51283, 197029],\n",
       "       [     0,      0,      1,  20229,  65947, 185265],\n",
       "       [     1,      0,      0,  38558,  82982, 174999],\n",
       "       [     1,      0,      0,  28754, 118546, 172795],\n",
       "       [     0,      1,      0,  27892,  84710, 164470],\n",
       "       [     1,      0,      0,  23640,  96189, 148001],\n",
       "       [     0,      0,      1,  15505, 127382,  35534],\n",
       "       [     1,      0,      0,  22177, 154806,  28334],\n",
       "       [     0,      0,      1,   1000, 124153,   1903],\n",
       "       [     0,      1,      0,   1315, 115816, 297114],\n",
       "       [     1,      0,      0,      0, 135426,      0],\n",
       "       [     0,      0,      1,    542,  51743,      0],\n",
       "       [     1,      0,      0,      0, 116983,  45173]])"
      ]
     },
     "execution_count": 15,
     "metadata": {},
     "output_type": "execute_result"
    }
   ],
   "source": [
    "X"
   ]
  },
  {
   "cell_type": "code",
   "execution_count": 17,
   "metadata": {},
   "outputs": [
    {
     "data": {
      "text/plain": [
       "array([[     0,      1, 165349, 136897, 471784],\n",
       "       [     0,      0, 162597, 151377, 443898],\n",
       "       [     1,      0, 153441, 101145, 407934],\n",
       "       [     0,      1, 144372, 118671, 383199],\n",
       "       [     1,      0, 142107,  91391, 366168],\n",
       "       [     0,      1, 131876,  99814, 362861],\n",
       "       [     0,      0, 134615, 147198, 127716],\n",
       "       [     1,      0, 130298, 145530, 323876],\n",
       "       [     0,      1, 120542, 148718, 311613],\n",
       "       [     0,      0, 123334, 108679, 304981],\n",
       "       [     1,      0, 101913, 110594, 229160],\n",
       "       [     0,      0, 100671,  91790, 249744],\n",
       "       [     1,      0,  93863, 127320, 249839],\n",
       "       [     0,      0,  91992, 135495, 252664],\n",
       "       [     1,      0, 119943, 156547, 256512],\n",
       "       [     0,      1, 114523, 122616, 261776],\n",
       "       [     0,      0,  78013, 121597, 264346],\n",
       "       [     0,      1,  94657, 145077, 282574],\n",
       "       [     1,      0,  91749, 114175, 294919],\n",
       "       [     0,      1,  86419, 153514,      0],\n",
       "       [     0,      0,  76253, 113867, 298664],\n",
       "       [     0,      1,  78389, 153773, 299737],\n",
       "       [     1,      0,  73994, 122782, 303319],\n",
       "       [     1,      0,  67532, 105751, 304768],\n",
       "       [     0,      1,  77044,  99281, 140574],\n",
       "       [     0,      0,  64664, 139553, 137962],\n",
       "       [     1,      0,  75328, 144135, 134050],\n",
       "       [     0,      1,  72107, 127864, 353183],\n",
       "       [     1,      0,  66051, 182645, 118148],\n",
       "       [     0,      1,  65605, 153032, 107138],\n",
       "       [     1,      0,  61994, 115641,  91131],\n",
       "       [     0,      1,  61136, 152701,  88218],\n",
       "       [     0,      0,  63408, 129219,  46085],\n",
       "       [     1,      0,  55493, 103057, 214634],\n",
       "       [     0,      0,  46426, 157693, 210797],\n",
       "       [     0,      1,  46014,  85047, 205517],\n",
       "       [     1,      0,  28663, 127056, 201126],\n",
       "       [     0,      0,  44069,  51283, 197029],\n",
       "       [     0,      1,  20229,  65947, 185265],\n",
       "       [     0,      0,  38558,  82982, 174999],\n",
       "       [     0,      0,  28754, 118546, 172795],\n",
       "       [     1,      0,  27892,  84710, 164470],\n",
       "       [     0,      0,  23640,  96189, 148001],\n",
       "       [     0,      1,  15505, 127382,  35534],\n",
       "       [     0,      0,  22177, 154806,  28334],\n",
       "       [     0,      1,   1000, 124153,   1903],\n",
       "       [     1,      0,   1315, 115816, 297114],\n",
       "       [     0,      0,      0, 135426,      0],\n",
       "       [     0,      1,    542,  51743,      0],\n",
       "       [     0,      0,      0, 116983,  45173]])"
      ]
     },
     "execution_count": 17,
     "metadata": {},
     "output_type": "execute_result"
    }
   ],
   "source": [
    "#Avoiding Dummy Variable Trap by reducing one dummy var\n",
    "X = X[:, 1:]\n",
    "X"
   ]
  },
  {
   "cell_type": "code",
   "execution_count": 18,
   "metadata": {},
   "outputs": [],
   "source": [
    "#Split the data into trainning and test set\n",
    "from sklearn.model_selection import train_test_split\n",
    "X_train, X_test, y_train, y_test = train_test_split(X, y, test_size = 0.2, random_state = 0)"
   ]
  },
  {
   "cell_type": "code",
   "execution_count": 19,
   "metadata": {},
   "outputs": [
    {
     "data": {
      "text/plain": [
       "array([[     1,      0,  55493, 103057, 214634],\n",
       "       [     0,      1,  46014,  85047, 205517],\n",
       "       [     1,      0,  75328, 144135, 134050],\n",
       "       [     0,      0,  46426, 157693, 210797],\n",
       "       [     1,      0,  91749, 114175, 294919],\n",
       "       [     1,      0, 130298, 145530, 323876],\n",
       "       [     1,      0, 119943, 156547, 256512],\n",
       "       [     0,      1,   1000, 124153,   1903],\n",
       "       [     0,      1,    542,  51743,      0],\n",
       "       [     0,      1,  65605, 153032, 107138],\n",
       "       [     0,      1, 114523, 122616, 261776],\n",
       "       [     1,      0,  61994, 115641,  91131],\n",
       "       [     0,      0,  63408, 129219,  46085],\n",
       "       [     0,      0,  78013, 121597, 264346],\n",
       "       [     0,      0,  23640,  96189, 148001],\n",
       "       [     0,      0,  76253, 113867, 298664],\n",
       "       [     0,      1,  15505, 127382,  35534],\n",
       "       [     0,      1, 120542, 148718, 311613],\n",
       "       [     0,      0,  91992, 135495, 252664],\n",
       "       [     0,      0,  64664, 139553, 137962],\n",
       "       [     0,      1, 131876,  99814, 362861],\n",
       "       [     0,      1,  94657, 145077, 282574],\n",
       "       [     0,      0,  28754, 118546, 172795],\n",
       "       [     0,      0,      0, 116983,  45173],\n",
       "       [     0,      0, 162597, 151377, 443898],\n",
       "       [     1,      0,  93863, 127320, 249839],\n",
       "       [     0,      0,  44069,  51283, 197029],\n",
       "       [     0,      1,  77044,  99281, 140574],\n",
       "       [     0,      0, 134615, 147198, 127716],\n",
       "       [     1,      0,  67532, 105751, 304768],\n",
       "       [     1,      0,  28663, 127056, 201126],\n",
       "       [     0,      1,  78389, 153773, 299737],\n",
       "       [     0,      1,  86419, 153514,      0],\n",
       "       [     0,      0, 123334, 108679, 304981],\n",
       "       [     0,      0,  38558,  82982, 174999],\n",
       "       [     1,      0,   1315, 115816, 297114],\n",
       "       [     0,      1, 144372, 118671, 383199],\n",
       "       [     0,      1, 165349, 136897, 471784],\n",
       "       [     0,      0,      0, 135426,      0],\n",
       "       [     0,      0,  22177, 154806,  28334]])"
      ]
     },
     "execution_count": 19,
     "metadata": {},
     "output_type": "execute_result"
    }
   ],
   "source": [
    "X_train"
   ]
  },
  {
   "cell_type": "code",
   "execution_count": 20,
   "metadata": {},
   "outputs": [
    {
     "data": {
      "text/plain": [
       "array([ 96778.92,  96479.51, 105733.54,  96712.8 , 124266.9 , 155752.6 ,\n",
       "       132602.65,  64926.08,  35673.41, 101004.64, 129917.04,  99937.59,\n",
       "        97427.84, 126992.93,  71498.49, 118474.03,  69758.98, 152211.77,\n",
       "       134307.35, 107404.34, 156991.12, 125370.37,  78239.91,  14681.4 ,\n",
       "       191792.06, 141585.52,  89949.14, 108552.04, 156122.51, 108733.99,\n",
       "        90708.19, 111313.02, 122776.86, 149759.96,  81005.76,  49490.75,\n",
       "       182901.99, 192261.83,  42559.73,  65200.33])"
      ]
     },
     "execution_count": 20,
     "metadata": {},
     "output_type": "execute_result"
    }
   ],
   "source": [
    "y_train"
   ]
  },
  {
   "cell_type": "code",
   "execution_count": 21,
   "metadata": {},
   "outputs": [
    {
     "data": {
      "text/plain": [
       "array([[     1,      0,  66051, 182645, 118148],\n",
       "       [     0,      0, 100671,  91790, 249744],\n",
       "       [     1,      0, 101913, 110594, 229160],\n",
       "       [     1,      0,  27892,  84710, 164470],\n",
       "       [     1,      0, 153441, 101145, 407934],\n",
       "       [     0,      1,  72107, 127864, 353183],\n",
       "       [     0,      1,  20229,  65947, 185265],\n",
       "       [     0,      1,  61136, 152701,  88218],\n",
       "       [     1,      0,  73994, 122782, 303319],\n",
       "       [     1,      0, 142107,  91391, 366168]])"
      ]
     },
     "execution_count": 21,
     "metadata": {},
     "output_type": "execute_result"
    }
   ],
   "source": [
    "X_test"
   ]
  },
  {
   "cell_type": "code",
   "execution_count": 22,
   "metadata": {},
   "outputs": [
    {
     "data": {
      "text/plain": [
       "array([103282.38, 144259.4 , 146121.95,  77798.83, 191050.39, 105008.31,\n",
       "        81229.06,  97483.56, 110352.25, 166187.94])"
      ]
     },
     "execution_count": 22,
     "metadata": {},
     "output_type": "execute_result"
    }
   ],
   "source": [
    "y_test"
   ]
  },
  {
   "cell_type": "code",
   "execution_count": 24,
   "metadata": {},
   "outputs": [
    {
     "data": {
      "text/plain": [
       "LinearRegression(copy_X=True, fit_intercept=True, n_jobs=None, normalize=False)"
      ]
     },
     "execution_count": 24,
     "metadata": {},
     "output_type": "execute_result"
    }
   ],
   "source": [
    "from sklearn.linear_model import LinearRegression \n",
    "regressor = LinearRegression()\n",
    "regressor.fit(X_train, y_train)"
   ]
  },
  {
   "cell_type": "code",
   "execution_count": 25,
   "metadata": {},
   "outputs": [],
   "source": [
    "y_pred = regressor.predict(X_test)"
   ]
  },
  {
   "cell_type": "code",
   "execution_count": 27,
   "metadata": {},
   "outputs": [
    {
     "data": {
      "text/html": [
       "<div>\n",
       "<style scoped>\n",
       "    .dataframe tbody tr th:only-of-type {\n",
       "        vertical-align: middle;\n",
       "    }\n",
       "\n",
       "    .dataframe tbody tr th {\n",
       "        vertical-align: top;\n",
       "    }\n",
       "\n",
       "    .dataframe thead th {\n",
       "        text-align: right;\n",
       "    }\n",
       "</style>\n",
       "<table border=\"1\" class=\"dataframe\">\n",
       "  <thead>\n",
       "    <tr style=\"text-align: right;\">\n",
       "      <th></th>\n",
       "      <th>0</th>\n",
       "    </tr>\n",
       "  </thead>\n",
       "  <tbody>\n",
       "    <tr>\n",
       "      <th>0</th>\n",
       "      <td>103015</td>\n",
       "    </tr>\n",
       "    <tr>\n",
       "      <th>1</th>\n",
       "      <td>132581</td>\n",
       "    </tr>\n",
       "    <tr>\n",
       "      <th>2</th>\n",
       "      <td>132448</td>\n",
       "    </tr>\n",
       "    <tr>\n",
       "      <th>3</th>\n",
       "      <td>71975</td>\n",
       "    </tr>\n",
       "    <tr>\n",
       "      <th>4</th>\n",
       "      <td>178537</td>\n",
       "    </tr>\n",
       "    <tr>\n",
       "      <th>5</th>\n",
       "      <td>116161</td>\n",
       "    </tr>\n",
       "    <tr>\n",
       "      <th>6</th>\n",
       "      <td>67851</td>\n",
       "    </tr>\n",
       "    <tr>\n",
       "      <th>7</th>\n",
       "      <td>98791</td>\n",
       "    </tr>\n",
       "    <tr>\n",
       "      <th>8</th>\n",
       "      <td>113969</td>\n",
       "    </tr>\n",
       "    <tr>\n",
       "      <th>9</th>\n",
       "      <td>167921</td>\n",
       "    </tr>\n",
       "  </tbody>\n",
       "</table>\n",
       "</div>"
      ],
      "text/plain": [
       "        0\n",
       "0  103015\n",
       "1  132581\n",
       "2  132448\n",
       "3   71975\n",
       "4  178537\n",
       "5  116161\n",
       "6   67851\n",
       "7   98791\n",
       "8  113969\n",
       "9  167921"
      ]
     },
     "execution_count": 27,
     "metadata": {},
     "output_type": "execute_result"
    }
   ],
   "source": [
    "y_pred.astype(int)\n",
    "y_pred_df = pd.DataFrame(y_pred.astype(int))\n",
    "y_pred_df"
   ]
  },
  {
   "cell_type": "code",
   "execution_count": 28,
   "metadata": {},
   "outputs": [
    {
     "data": {
      "text/html": [
       "<div>\n",
       "<style scoped>\n",
       "    .dataframe tbody tr th:only-of-type {\n",
       "        vertical-align: middle;\n",
       "    }\n",
       "\n",
       "    .dataframe tbody tr th {\n",
       "        vertical-align: top;\n",
       "    }\n",
       "\n",
       "    .dataframe thead th {\n",
       "        text-align: right;\n",
       "    }\n",
       "</style>\n",
       "<table border=\"1\" class=\"dataframe\">\n",
       "  <thead>\n",
       "    <tr style=\"text-align: right;\">\n",
       "      <th></th>\n",
       "      <th>0</th>\n",
       "    </tr>\n",
       "  </thead>\n",
       "  <tbody>\n",
       "    <tr>\n",
       "      <th>0</th>\n",
       "      <td>103282</td>\n",
       "    </tr>\n",
       "    <tr>\n",
       "      <th>1</th>\n",
       "      <td>144259</td>\n",
       "    </tr>\n",
       "    <tr>\n",
       "      <th>2</th>\n",
       "      <td>146121</td>\n",
       "    </tr>\n",
       "    <tr>\n",
       "      <th>3</th>\n",
       "      <td>77798</td>\n",
       "    </tr>\n",
       "    <tr>\n",
       "      <th>4</th>\n",
       "      <td>191050</td>\n",
       "    </tr>\n",
       "    <tr>\n",
       "      <th>5</th>\n",
       "      <td>105008</td>\n",
       "    </tr>\n",
       "    <tr>\n",
       "      <th>6</th>\n",
       "      <td>81229</td>\n",
       "    </tr>\n",
       "    <tr>\n",
       "      <th>7</th>\n",
       "      <td>97483</td>\n",
       "    </tr>\n",
       "    <tr>\n",
       "      <th>8</th>\n",
       "      <td>110352</td>\n",
       "    </tr>\n",
       "    <tr>\n",
       "      <th>9</th>\n",
       "      <td>166187</td>\n",
       "    </tr>\n",
       "  </tbody>\n",
       "</table>\n",
       "</div>"
      ],
      "text/plain": [
       "        0\n",
       "0  103282\n",
       "1  144259\n",
       "2  146121\n",
       "3   77798\n",
       "4  191050\n",
       "5  105008\n",
       "6   81229\n",
       "7   97483\n",
       "8  110352\n",
       "9  166187"
      ]
     },
     "execution_count": 28,
     "metadata": {},
     "output_type": "execute_result"
    }
   ],
   "source": [
    "y_test.astype(int)\n",
    "y_test_df = pd.DataFrame(y_test.astype(int))\n",
    "y_test_df"
   ]
  },
  {
   "cell_type": "code",
   "execution_count": null,
   "metadata": {},
   "outputs": [],
   "source": []
  }
 ],
 "metadata": {
  "kernelspec": {
   "display_name": "Python 3",
   "language": "python",
   "name": "python3"
  },
  "language_info": {
   "codemirror_mode": {
    "name": "ipython",
    "version": 3
   },
   "file_extension": ".py",
   "mimetype": "text/x-python",
   "name": "python",
   "nbconvert_exporter": "python",
   "pygments_lexer": "ipython3",
   "version": "3.7.6"
  }
 },
 "nbformat": 4,
 "nbformat_minor": 4
}
